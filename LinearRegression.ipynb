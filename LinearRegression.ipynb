{
 "cells": [
  {
   "cell_type": "markdown",
   "id": "40d96147",
   "metadata": {
    "pycharm": {
     "name": ""
    }
   },
   "source": [
    "# Program to implement Simple Linear Regression"
   ]
  },
  {
   "cell_type": "code",
   "execution_count": 29,
   "id": "2da970a3",
   "metadata": {},
   "outputs": [],
   "source": [
    "import pandas as pd\n",
    "import numpy as np\n",
    "import matplotlib.pyplot as plt"
   ]
  },
  {
   "cell_type": "code",
   "execution_count": 30,
   "id": "5d1f5a5b",
   "metadata": {},
   "outputs": [],
   "source": [
    "def estimate_coeff(X, y):\n",
    "    # number of observations/points\n",
    "    n = np.size(X)\n",
    "\n",
    "    # mean of X and y vector\n",
    "    X_mean = np.mean(X)\n",
    "    y_mean = np.mean(y)\n",
    "\n",
    "    # Calculate the terms needed for numerator and denominator of beta1\n",
    "    Xy_cov = (X - X_mean) * (y - y_mean)\n",
    "    x_var = (X - X_mean) ** 2\n",
    "\n",
    "    # calculating regression coefficients\n",
    "    beta1 = Xy_cov.sum() / x_var.sum()\n",
    "    beta0 = y_mean - (beta1 * X_mean)\n",
    "\n",
    "    return beta0, beta1"
   ]
  },
  {
   "cell_type": "code",
   "execution_count": 31,
   "id": "75cb7e75",
   "metadata": {},
   "outputs": [],
   "source": [
    "def plot_regression_line(X, y, b):\n",
    "    # plotting the actual points as scatter plot\n",
    "    plt.scatter(X, y, color=\"m\", marker=\"o\", s=30)\n",
    "\n",
    "    # predicted response vector\n",
    "    y_pred = b[0] + b[1] * X\n",
    "\n",
    "    # plotting the regression line\n",
    "    plt.plot(X, y_pred, color=\"g\")\n",
    "\n",
    "    # putting labels\n",
    "    plt.xlabel('No. of Advertisement')\n",
    "    plt.ylabel('Sales')\n",
    "    plt.title('No. of Advertisements on TV Vs Sales')\n",
    "\n",
    "    # function to show plot\n",
    "    plt.show()"
   ]
  },
  {
   "cell_type": "code",
   "execution_count": 32,
   "id": "95c5979d",
   "metadata": {},
   "outputs": [],
   "source": [
    "def main():\n",
    "    # Import and display first five rows of advertising dataset\n",
    "    advertise = pd.read_csv('dataset/Advertising.csv')\n",
    "    advertise.head()\n",
    "   "
   ]
  },
  {
   "cell_type": "code",
   "execution_count": 33,
   "id": "82cb0378",
   "metadata": {},
   "outputs": [],
   "source": [
    " # create X (features) and y (response)\n",
    "X = advertise['TV']\n",
    "y = advertise['Sales']"
   ]
  },
  {
   "cell_type": "code",
   "execution_count": 34,
   "id": "2d0a387d",
   "metadata": {},
   "outputs": [
    {
     "name": "stdout",
     "output_type": "stream",
     "text": [
      "Estimated coefficients:\n",
      "beta_0 = 7.032593549127698            \n",
      "beta_1 = 0.047536640433019736\n"
     ]
    }
   ],
   "source": [
    "# estimating coefficients\n",
    "r_coeff = estimate_coeff(X, y)\n",
    "print(\"Estimated coefficients:\\nbeta_0 = {}  \\\n",
    "          \\nbeta_1 = {}\".format(r_coeff[0], r_coeff[1]))"
   ]
  },
  {
   "cell_type": "code",
   "execution_count": 35,
   "id": "1e5da8e8",
   "metadata": {},
   "outputs": [
    {
     "data": {
      "image/png": "[encoded data removed]",
      "text/plain": [
       "<Figure size 432x288 with 1 Axes>"
      ]
     },
     "metadata": {
      "needs_background": "light"
     },
     "output_type": "display_data"
    }
   ],
   "source": [
    "# plotting regression line\n",
    "plot_regression_line(X, y, r_coeff)"
   ]
  }
 ],
 "metadata": {
  "kernelspec": {
   "display_name": "Python 3 (ipykernel)",
   "language": "python",
   "name": "python3"
  },
  "language_info": {
   "codemirror_mode": {
    "name": "ipython",
    "version": 3
   },
   "file_extension": ".py",
   "mimetype": "text/x-python",
   "name": "python",
   "nbconvert_exporter": "python",
   "pygments_lexer": "ipython3",
   "version": "3.9.12"
  }
 },
 "nbformat": 4,
 "nbformat_minor": 5
}
